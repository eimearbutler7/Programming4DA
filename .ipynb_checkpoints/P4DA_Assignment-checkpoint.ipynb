{
 "cells": [
  {
   "cell_type": "markdown",
   "metadata": {},
   "source": [
    "# Programming for Data Analysis Assignment "
   ]
  },
  {
   "cell_type": "markdown",
   "metadata": {},
   "source": [
    "## Semester 2, October 2018, Eimear Butler"
   ]
  },
  {
   "cell_type": "markdown",
   "metadata": {},
   "source": [
    "**Problem statement**\n",
    "\n",
    "The following assignment concerns the `numpy. random` package in Python. You are required to create a Jupyter notebook explaining the use of the package, including detailed explanations of at least five of the distributions provided for in the package.\n",
    "\n",
    "There are four distinct tasks to be carried out in your Jupyter notebook.\n",
    "1. Explain the overall purpose of the package.\n",
    "2. Explain the use of the “Simple random data” and “Permutations” functions.\n",
    "3. Explain the use and purpose of at least five “Distributions” functions.\n",
    "4. Explain the use of seeds in generating pseudorandom numbers."
   ]
  },
  {
   "cell_type": "markdown",
   "metadata": {},
   "source": [
    "## PART 1: Overall Purpose of `numpy.random` Package"
   ]
  },
  {
   "cell_type": "markdown",
   "metadata": {},
   "source": [
    "The overall purpose of the `numpy.random` package is to generate random numbers for the user. These can be used, for example, to create games, test hypotheses and code or even as a useful teaching aid. \n",
    "\n",
    "Sounds simple, right? Not so simple actually! At the most basic level, the package must at least account for the shape of the array. \n",
    "\n",
    "Here for example, using the most basic command `random.rand` the package will generate numbers defaulting to a uniform distribution between 0 and 1 (not including 1 itself)<sup>1</sup>:  "
   ]
  },
  {
   "cell_type": "code",
   "execution_count": 22,
   "metadata": {},
   "outputs": [
    {
     "data": {
      "text/plain": [
       "array([0.03578676])"
      ]
     },
     "execution_count": 22,
     "metadata": {},
     "output_type": "execute_result"
    }
   ],
   "source": [
    "import numpy as np #instruct the notebook to utilize numpy functionality, it can now be used this throughout the numerous commands in this notebook \n",
    "np.random.rand(1) #generates an array of 1 random number within the set value parameters"
   ]
  },
  {
   "cell_type": "markdown",
   "metadata": {},
   "source": [
    "An example with a more complex 2 dimensional array of random numbers is also seen below:"
   ]
  },
  {
   "cell_type": "code",
   "execution_count": 24,
   "metadata": {},
   "outputs": [
    {
     "data": {
      "text/plain": [
       "array([[0.34093838, 0.60432499, 0.61227077],\n",
       "       [0.13887842, 0.80072578, 0.08194252],\n",
       "       [0.32465707, 0.41650785, 0.99171845],\n",
       "       [0.07082614, 0.71027152, 0.99483296],\n",
       "       [0.39978742, 0.05757152, 0.31293703]])"
      ]
     },
     "execution_count": 24,
     "metadata": {},
     "output_type": "execute_result"
    }
   ],
   "source": [
    "eg = np.random.rand(5,3) #this time we request a 5 x 3 shaped array of random numbers\n",
    "eg"
   ]
  },
  {
   "cell_type": "code",
   "execution_count": 25,
   "metadata": {},
   "outputs": [
    {
     "data": {
      "image/png": "[encoded data removed]",
      "text/plain": [
       "<Figure size 432x288 with 1 Axes>"
      ]
     },
     "metadata": {},
     "output_type": "display_data"
    }
   ],
   "source": [
    "import matplotlib.pyplot as plt #import matplotlib functionalities\n",
    "plt.hist(eg)\n",
    "plt.show() #wecan see that the random numbers are chosen quite uniformly"
   ]
  },
  {
   "cell_type": "markdown",
   "metadata": {},
   "source": [
    "A light change to the code (`.randn`) alters the request to numbers within the \"Standard Distribution\" where the mean of the data is 0 and variance is 1. \"Standard Distribution\" implies the data will fit to a bell shaped curve around 0<sup>1</sup>.\n",
    "\n",
    "For example:"
   ]
  },
  {
   "cell_type": "code",
   "execution_count": 26,
   "metadata": {},
   "outputs": [],
   "source": [
    "x = np.random.randn(10000, 1) #note the change of command to .randn"
   ]
  },
  {
   "cell_type": "markdown",
   "metadata": {},
   "source": [
    "To show the distribution of these random numbers, we need to plot them on a histogram to see that they are indeed centered around 0<sup>2</sup>. "
   ]
  },
  {
   "cell_type": "code",
   "execution_count": 27,
   "metadata": {},
   "outputs": [
    {
     "data": {
      "image/png": "[encoded data removed]",
      "text/plain": [
       "<Figure size 432x288 with 1 Axes>"
      ]
     },
     "metadata": {},
     "output_type": "display_data"
    }
   ],
   "source": [
    "plt.hist(x) #command to represent x as a histogram\n",
    "plt.show() #and show it inline"
   ]
  },
  {
   "cell_type": "markdown",
   "metadata": {},
   "source": [
    "**Note 1:** `random.randn` only accepts integers as inputs, this is a convenience function. The example above uses a simple array to produce a simple example of the data transposed into a histogram. `random.normal` however is capable of performing the same action but with floats and more parameters making it a more functional tool.   "
   ]
  },
  {
   "cell_type": "markdown",
   "metadata": {},
   "source": [
    "**Note 2:** Python actually has its own random package but this is significantly slower and less functional than `numpy.random`<sup>3</sup>."
   ]
  },
  {
   "cell_type": "markdown",
   "metadata": {},
   "source": [
    "As mentioned earlier, the random package can be used for example in simple games where the user must select an option and python must randomly selected the \"winner\". For example:"
   ]
  },
  {
   "cell_type": "code",
   "execution_count": 57,
   "metadata": {},
   "outputs": [],
   "source": [
    "import random # Python can use this functionality to provides a library called random to generate pseudo-random numbers\n",
    "\n",
    "available_choices = ['Dublin', 'New York', 'Sydney'] #this establishes the possibilities for the contestant and python to choose from\n",
    "\n",
    "winning_city = random.choice(available_choices) # request python to pick a random city from the list.\n",
    "\n",
    "#based on Ian McLoughlan's notebook (https://github.com/ianmcloughlin/jupyter-teaching-notebooks/raw/master/win-a-car.ipynb)"
   ]
  },
  {
   "cell_type": "code",
   "execution_count": 58,
   "metadata": {},
   "outputs": [
    {
     "data": {
      "text/plain": [
       "False"
      ]
     },
     "execution_count": 58,
     "metadata": {},
     "output_type": "execute_result"
    }
   ],
   "source": [
    "#Insert Contestant Guess here: \n",
    "Guess = 'Dublin'\n",
    "\n",
    "Guess == winning_city #ask python if the contestant's guess is right (i.e. True) or wrong (i.e. False)  "
   ]
  },
  {
   "cell_type": "markdown",
   "metadata": {},
   "source": [
    "It can also be used to test Hypotheses, particularly a \"Null\" Hypothesis, where the more skeptical assumption is made and then tested to see how likely it is that the person/object/function etc. is doing the thing it is claiming to do. \n",
    "\n",
    "For example, the Null Hypothesis could be that from 6 playing cards, 3 red, 3 black, a magician does **NOT** have the skill to pick the red cards first. In order to test the theory that the magician is just guessing, we can perform the following analysis:"
   ]
  },
  {
   "cell_type": "code",
   "execution_count": 52,
   "metadata": {},
   "outputs": [
    {
     "data": {
      "text/plain": [
       "[0, 1, 2, 3, 4, 5]"
      ]
     },
     "execution_count": 52,
     "metadata": {},
     "output_type": "execute_result"
    }
   ],
   "source": [
    "# We create a list of six cards numbered from 0 to 5.\n",
    "cards = list(range(6))\n",
    "cards"
   ]
  },
  {
   "cell_type": "markdown",
   "metadata": {},
   "source": [
    "We calculate that the nNumber of ways of selecting 3 red cards is as follows: "
   ]
  },
  {
   "cell_type": "code",
   "execution_count": 55,
   "metadata": {},
   "outputs": [
    {
     "data": {
      "text/plain": [
       "0.05"
      ]
     },
     "execution_count": 55,
     "metadata": {},
     "output_type": "execute_result"
    }
   ],
   "source": [
    "#1 chance divided by the different number of possible outcomes for each card draw i.e. 6 is the first as there are 6 cards to draw from on the first go, then 5 and 4. \n",
    "#They are then divided by the possibilities for the 3 remaining cards not selected i.e. 3, then 2, then only 1. \n",
    "\n",
    "1/((6*5*4)/(3*2*1)) #1 in 20 chance or 5% "
   ]
  },
  {
   "cell_type": "markdown",
   "metadata": {},
   "source": [
    "This is confirmed by using the `itertools.combinations` function to list out all the possible combinations of choices the magician could make. It again confirms there is a 1 in 20 chance of getting the only right answer.   "
   ]
  },
  {
   "cell_type": "code",
   "execution_count": 56,
   "metadata": {
    "scrolled": false
   },
   "outputs": [
    {
     "data": {
      "text/plain": [
       "20"
      ]
     },
     "execution_count": 56,
     "metadata": {},
     "output_type": "execute_result"
    }
   ],
   "source": [
    "import itertools #import itertools functionality\n",
    "\n",
    "poss = list(itertools.combinations(cards, 3))\n",
    "len(poss)"
   ]
  },
  {
   "cell_type": "code",
   "execution_count": 59,
   "metadata": {
    "scrolled": true
   },
   "outputs": [
    {
     "data": {
      "text/plain": [
       "<matplotlib.axes._subplots.AxesSubplot at 0xabbc908>"
      ]
     },
     "execution_count": 59,
     "metadata": {},
     "output_type": "execute_result"
    },
    {
     "data": {
      "image/png": "[encoded data removed]",
      "text/plain": [
       "<Figure size 432x288 with 1 Axes>"
      ]
     },
     "metadata": {},
     "output_type": "display_data"
    }
   ],
   "source": [
    "import seaborn as sns #import seaborn functionality to produce graphs\n",
    "\n",
    "# we then use random.choice to select a correct answer from the list of 20 to simulate the experiment.\n",
    "red_cards = set(random.choice(poss))\n",
    "\n",
    "# this function then counts the overlap between the correct answer, and each of the 20 possiblities.\n",
    "counts = [len(red_cards & set(i)) for i in itertools.combinations(cards, 3)]\n",
    "\n",
    "# This function then draws a plot so that we may analyse the data visually.\n",
    "sns.countplot(counts)\n",
    "\n",
    "#based on Ian McLoughlan's notebook (https://github.com/ianmcloughlin/jupyter-teaching-notebooks/raw/master/lady-tasting-tea.ipynb)"
   ]
  },
  {
   "cell_type": "markdown",
   "metadata": {},
   "source": [
    "We can see that apart from the 5% chance the magician will get the red cards, there is also a 50% chance that the magician will get at least 2 red cards if only randomly guessing the pick.\n",
    "\n",
    "The above examples show how random data can be used within the Python package."
   ]
  },
  {
   "cell_type": "markdown",
   "metadata": {},
   "source": [
    "## PART 2: Use of \"Simple Random Data\" and \"Permutations\" Functions"
   ]
  },
  {
   "cell_type": "markdown",
   "metadata": {},
   "source": [
    "The use of the Simple Random Data versus Permutations Functions is best seen through examples. \n",
    "\n",
    "Functions listed as Simple Random Data in Scipy.org<sup>4</sup> include `random.rand` and `random.randn` as demonstrated above, as well as the following:\n",
    "\n",
    "### randint and random_integers\n",
    "`random.randint` and `random.random_integers` are similar in that they accept boundary intervals of integers but are half-open interval and closed interval respectively. If no high integer is assigned for `random.randint`, 0 is the lowest value assigned, while for `random.random_integers`, the low parameter becomes the highest such integer and 1. \n",
    "Data type (dtype) is also an optional input for `random.randint`. "
   ]
  },
  {
   "cell_type": "code",
   "execution_count": 60,
   "metadata": {},
   "outputs": [
    {
     "data": {
      "text/plain": [
       "array([31, 33, 30, 50, 23, 19, 21, 43, 35, 43, 46, 41, 56, 38,  3, 57, 42])"
      ]
     },
     "execution_count": 60,
     "metadata": {},
     "output_type": "execute_result"
    }
   ],
   "source": [
    "np.random.randint(0, 60, size=17) #request to produce an array of 20 random integers from 0 to 59. Half-open interval includes 0 but not 60."
   ]
  },
  {
   "cell_type": "markdown",
   "metadata": {},
   "source": [
    "Interestingly, ipython is moving away from `random.random_integers` for the preferable `random.randint`and actively suggests to use it. "
   ]
  },
  {
   "cell_type": "code",
   "execution_count": 61,
   "metadata": {},
   "outputs": [
    {
     "name": "stderr",
     "output_type": "stream",
     "text": [
      "C:\\ProgramData\\Anaconda3\\lib\\site-packages\\ipykernel_launcher.py:1: DeprecationWarning: This function is deprecated. Please call randint(1, 5 + 1) instead\n",
      "  \"\"\"Entry point for launching an IPython kernel.\n"
     ]
    },
    {
     "data": {
      "text/plain": [
       "array([1, 2, 3, 1, 5, 4, 5, 1, 4, 2, 3, 4, 5, 5, 2, 4, 2])"
      ]
     },
     "execution_count": 61,
     "metadata": {},
     "output_type": "execute_result"
    }
   ],
   "source": [
    "np.random.random_integers(5, size=17) #closed interval includes 1 and 5 "
   ]
  },
  {
   "cell_type": "markdown",
   "metadata": {},
   "source": [
    "### random_sample, random, ranf, sample"
   ]
  },
  {
   "cell_type": "markdown",
   "metadata": {},
   "source": [
    "Reviewing these 4 functions they all appear to be producing the same results using a “continuous uniform” distribution. A quick review of the characteristics of the functions show identical results. See table below created from data in Scipy.org<sup>4</sup>.\n",
    "\n",
    "\n",
    "|**Function** |**Returns** | **Interval** | **Parameters**\n",
    "|:---|:---|:---|:---\n",
    "|`random_sample` | float | half-open interval [0.0, 1.0) | size (optional)\n",
    "|`random` | float | half-open interval [0.0, 1.0) | size (optional)\n",
    "|`ranf` | float | half-open interval [0.0, 1.0) | size (optional)\n",
    "|`sample` | float | half-open interval [0.0, 1.0) | size (optional)\n",
    "\n",
    "After some research, it indeed appears to be correct that they are fundamentally the same and all produce the same random numbers<sup>5</sup>. Examples are as follows: "
   ]
  },
  {
   "cell_type": "code",
   "execution_count": 78,
   "metadata": {},
   "outputs": [
    {
     "data": {
      "text/plain": [
       "array([[0.19115871, 0.87048231],\n",
       "       [0.76012911, 0.10924766],\n",
       "       [0.42182809, 0.8344264 ],\n",
       "       [0.7524464 , 0.08438629],\n",
       "       [0.09018986, 0.92908757],\n",
       "       [0.31368512, 0.79692368],\n",
       "       [0.60848757, 0.95303662],\n",
       "       [0.30876488, 0.41205066]])"
      ]
     },
     "execution_count": 78,
     "metadata": {},
     "output_type": "execute_result"
    }
   ],
   "source": [
    "np.random.random_sample((8,2)) #Defaults to a range between 0 and 1.0, not including 0 itself. "
   ]
  },
  {
   "cell_type": "code",
   "execution_count": 79,
   "metadata": {},
   "outputs": [
    {
     "data": {
      "text/plain": [
       "array([[4.94568522, 4.2557598 , 6.21547656],\n",
       "       [9.56713042, 9.15738759, 9.60360719],\n",
       "       [4.92201312, 3.33548204, 8.18466606],\n",
       "       [7.42720877, 8.13672379, 5.7847798 ]])"
      ]
     },
     "execution_count": 79,
     "metadata": {},
     "output_type": "execute_result"
    }
   ],
   "source": [
    "a = 3 #Lowest value\n",
    "b = 10 #Highest value \n",
    "x = 3 #Array Size x axis \n",
    "y = 4 #Array Size y axis\n",
    "\n",
    "(b - a) * np.random.random_sample((y, x)) + a \n",
    "#Requests an array of random numbers from 3 (but not including 3 itself) to 10"
   ]
  },
  {
   "cell_type": "markdown",
   "metadata": {},
   "source": [
    "### random.choice"
   ]
  },
  {
   "cell_type": "markdown",
   "metadata": {},
   "source": [
    "We have already seen `random.choice` in action earlier where the game was created to select a city. Python would choose a \"winner\" from the established list. More examples of this function in use are below:"
   ]
  },
  {
   "cell_type": "code",
   "execution_count": 80,
   "metadata": {},
   "outputs": [
    {
     "data": {
      "text/plain": [
       "array([19, 18,  9,  5,  6,  1,  8,  3, 16,  3,  4,  3, 14,  0, 11])"
      ]
     },
     "execution_count": 80,
     "metadata": {},
     "output_type": "execute_result"
    }
   ],
   "source": [
    "np.random.choice(20, 15) \n",
    "# NOTE: this is equivalent to np.random.randint(0,20,15) \n",
    "# 15 random integers are selected in the output array between 0 and 20 without including 20"
   ]
  },
  {
   "cell_type": "markdown",
   "metadata": {},
   "source": [
    "This function also allows you to influence the probability of each entry too using a *p* entry to create non-uniform output, for example:"
   ]
  },
  {
   "cell_type": "code",
   "execution_count": 70,
   "metadata": {},
   "outputs": [
    {
     "data": {
      "text/plain": [
       "array([4, 3, 3, 2, 4], dtype=int64)"
      ]
     },
     "execution_count": 70,
     "metadata": {},
     "output_type": "execute_result"
    }
   ],
   "source": [
    "np.random.choice(5, 5, p=[0, 0, 0.4, 0.5, 0.1]) #9 of every 10 selections should result in a 2 or a 3 as each p location corresponds to the array's index position"
   ]
  },
  {
   "cell_type": "markdown",
   "metadata": {},
   "source": [
    "Using the previous example of the game to choose a city, we can now create a preference for one city over the others."
   ]
  },
  {
   "cell_type": "code",
   "execution_count": 76,
   "metadata": {},
   "outputs": [
    {
     "data": {
      "text/plain": [
       "'Sydney'"
      ]
     },
     "execution_count": 76,
     "metadata": {},
     "output_type": "execute_result"
    }
   ],
   "source": [
    "available_choices = ['Dublin', 'New York', 'Sydney'] #add comment\n",
    "\n",
    "# Pick a random city from the list.\n",
    "winning_city = np.random.choice(available_choices, p=[0.1, 0.3, 0.6]) # NOTE: I did need to add np. to use the numpy functionality to influence probability as this is not a feature of the basic python random function \n",
    "winning_city #the results are definitely preferable for Syndey now"
   ]
  },
  {
   "cell_type": "markdown",
   "metadata": {},
   "source": [
    "### Bytes"
   ]
  },
  {
   "cell_type": "markdown",
   "metadata": {},
   "source": [
    "By inputting the desired length, this function will return random number of bytes, for example:"
   ]
  },
  {
   "cell_type": "code",
   "execution_count": 77,
   "metadata": {},
   "outputs": [
    {
     "data": {
      "text/plain": [
       "b'\\xaa\\xb9\\xff\\xa4I'"
      ]
     },
     "execution_count": 77,
     "metadata": {},
     "output_type": "execute_result"
    }
   ],
   "source": [
    "np.random.bytes(5) #request 5 bytes"
   ]
  },
  {
   "cell_type": "markdown",
   "metadata": {},
   "source": [
    "### Shuffle and Permutation"
   ]
  },
  {
   "cell_type": "markdown",
   "metadata": {},
   "source": [
    "Moving onto the two Permutations Functions, the first is shuffle and as you might expect, its function is to shuffle the sequence of information fed into it. for example:"
   ]
  },
  {
   "cell_type": "code",
   "execution_count": 81,
   "metadata": {},
   "outputs": [
    {
     "data": {
      "text/plain": [
       "array([ 0,  1,  2,  3,  4,  5,  6,  7,  8,  9, 10, 11, 12, 13, 14, 15, 16])"
      ]
     },
     "execution_count": 81,
     "metadata": {},
     "output_type": "execute_result"
    }
   ],
   "source": [
    "numbers = np.arange(17) #creates list of numbers from 0-16\n",
    "numbers"
   ]
  },
  {
   "cell_type": "code",
   "execution_count": 102,
   "metadata": {},
   "outputs": [],
   "source": [
    "np.random.shuffle(numbers) #shuffles their order but set is still lenght of 17 with values of 0-16\n",
    "#does not give output array without calling for \"numbers\" again"
   ]
  },
  {
   "cell_type": "code",
   "execution_count": 103,
   "metadata": {},
   "outputs": [
    {
     "data": {
      "text/plain": [
       "array([13,  8, 11, 10, 16, 14,  0,  2,  5, 12, 15,  9,  3,  7,  4,  6,  1])"
      ]
     },
     "execution_count": 103,
     "metadata": {},
     "output_type": "execute_result"
    }
   ],
   "source": [
    "numbers"
   ]
  },
  {
   "cell_type": "markdown",
   "metadata": {},
   "source": [
    "When we call `numbers` the second time, the resulting array is the original list except it now has shuffled numbers i.e. the numbers are shuffled *in situ* and this is now `numbers`. \n",
    "\n",
    "However, with a `permutation`, although the result looks similar, a new copy of the array is produced containing the shuffled numbers. The original array can still be called as it ramains unchanged. "
   ]
  },
  {
   "cell_type": "code",
   "execution_count": 104,
   "metadata": {},
   "outputs": [
    {
     "data": {
      "text/plain": [
       "array([0, 1, 2, 3, 4, 5, 6, 7, 8, 9])"
      ]
     },
     "execution_count": 104,
     "metadata": {},
     "output_type": "execute_result"
    }
   ],
   "source": [
    "x = np.arange(10) #create an array called x containing a range of numbers from 0 to 9\n",
    "x"
   ]
  },
  {
   "cell_type": "code",
   "execution_count": 105,
   "metadata": {},
   "outputs": [
    {
     "data": {
      "text/plain": [
       "array([7, 9, 0, 6, 3, 5, 4, 1, 8, 2])"
      ]
     },
     "execution_count": 105,
     "metadata": {},
     "output_type": "execute_result"
    }
   ],
   "source": [
    "np.random.permutation(x) #create a permutated version of x (a copy of x except now shuffled)"
   ]
  },
  {
   "cell_type": "code",
   "execution_count": 106,
   "metadata": {},
   "outputs": [
    {
     "data": {
      "text/plain": [
       "array([0, 1, 2, 3, 4, 5, 6, 7, 8, 9])"
      ]
     },
     "execution_count": 106,
     "metadata": {},
     "output_type": "execute_result"
    }
   ],
   "source": [
    "x #we can see when we call x again, it is the original array as it has not been changes, only a copy made above"
   ]
  },
  {
   "cell_type": "markdown",
   "metadata": {},
   "source": [
    "### Summary"
   ]
  },
  {
   "cell_type": "markdown",
   "metadata": {},
   "source": [
    "In summary, the difference between the \"Simple Random Data\" and \"Permutations\" Functions is that Simple Random Data is selecting data randomly from a range of data input into the function, along with potentially size, shape or probability. Permutations however are instead mixing the existing array of data randomly, either within the original array itself (`shuffle`) or by creating a copy of the array (`permutation`).  "
   ]
  },
  {
   "cell_type": "markdown",
   "metadata": {},
   "source": [
    "## PART 3: Use and Purpose of Five \"Distributions\" Functions"
   ]
  },
  {
   "cell_type": "markdown",
   "metadata": {},
   "source": [
    "In this section I will examine the use and purpose of the following 5 \"Distributions\" Functions<sup>4</sup> :\n",
    "\n",
    "- `random.normal`\n",
    "- `random.standard_normal`\n",
    "- `random.standard_t`\n",
    "- `random.binomial`\n",
    "- `random.laplace`\n"
   ]
  },
  {
   "cell_type": "markdown",
   "metadata": {},
   "source": [
    "### random.normal"
   ]
  },
  {
   "cell_type": "markdown",
   "metadata": {},
   "source": [
    "`random.normal` draws its selection of numbers from the normal (Gaussian) distribution curve A.K.A Bell curve due to its shape. Normal distribution is designed to capture the variation often seen in nature. The percentage of values reduce as you move away from the mean of the curve and are measured along the x axis in units of standard deviation. The percentage for each standard deviation away from the centre is \n",
    "- approximately 68% of values are within one standard deviation (σ) away from the mean (x̅), \n",
    "- approximately 95% of values are within two standard deviations (σ) away from the mean (x̅),\n",
    "- approximately 99.7% of values are within three standard deviations (σ) away from the mean (x̅)\n",
    "\n",
    "  or 95% of the area of a normal distribution is within 1.96 standard deviations (σ) of the mean (x̅)"
   ]
  },
  {
   "cell_type": "code",
   "execution_count": 109,
   "metadata": {},
   "outputs": [
    {
     "data": {
      "text/plain": [
       "array([-0.10833338, -0.10321881, -0.07088507, ...,  0.16868441,\n",
       "       -0.04805966, -0.00296502])"
      ]
     },
     "execution_count": 109,
     "metadata": {},
     "output_type": "execute_result"
    }
   ],
   "source": [
    "mu, sigma = 0, 0.1 #takes arguements for the mean and standard deviation\n",
    "x = np.random.normal(mu, sigma, 8000) #creates a data set that is of normal distribution\n",
    "x #shows us a preview of that data set"
   ]
  },
  {
   "cell_type": "code",
   "execution_count": 110,
   "metadata": {},
   "outputs": [
    {
     "data": {
      "image/png": "[encoded data removed]",
      "text/plain": [
       "<Figure size 432x288 with 1 Axes>"
      ]
     },
     "metadata": {},
     "output_type": "display_data"
    }
   ],
   "source": [
    "plt.hist(x) #plot the 8000 values on a simple histogram.\n",
    "plt.show()"
   ]
  },
  {
   "cell_type": "code",
   "execution_count": 111,
   "metadata": {},
   "outputs": [
    {
     "data": {
      "text/plain": [
       "<matplotlib.legend.Legend at 0xad41080>"
      ]
     },
     "execution_count": 111,
     "metadata": {},
     "output_type": "execute_result"
    },
    {
     "data": {
      "image/png": "[encoded data removed]",
      "text/plain": [
       "<Figure size 432x288 with 1 Axes>"
      ]
     },
     "metadata": {},
     "output_type": "display_data"
    }
   ],
   "source": [
    "#source to add normal curve to data: https://stackoverflow.com/questions/35544233/fit-a-curve-to-a-histogram-in-python\n",
    "\n",
    "from scipy.optimize import curve_fit \n",
    "\n",
    "def gaussian(x, mean, amplitude, standard_deviation): #define the parameters of a normal distribution curve* \n",
    "    return amplitude * np.exp( - ((x - mean) / standard_deviation) ** 2)\n",
    "\n",
    "bin_heights, bin_borders, _ = plt.hist(x, bins='auto', label='histogram') #define bin numbers & heights (more bins means better visualisation of curve unlike example above that only has 10 bins)\n",
    "\n",
    "bin_centers = bin_borders[:-1] + np.diff(bin_borders) / 2\n",
    "popt, _ = curve_fit(gaussian, bin_centers, bin_heights, p0=[1., 0., 1.])\n",
    "\n",
    "x_interval_for_fit = np.linspace(bin_borders[0], bin_borders[-1], 8000)\n",
    "plt.plot(x_interval_for_fit, gaussian(x_interval_for_fit, *popt), label='fit')\n",
    "plt.legend()"
   ]
  },
  {
   "cell_type": "markdown",
   "metadata": {},
   "source": [
    "Imagine overlaying the above curve with the textbook Bell Shaped Curve and you can see how they are very close in shape.\n",
    "\n",
    "![alt text](https://upload.wikimedia.org/wikipedia/commons/8/8c/Standard_deviation_diagram.svg)\n",
    "\n",
    "Source: http://landsurvival.com/schools-wikipedia/images/209/20970.png.htm"
   ]
  },
  {
   "cell_type": "markdown",
   "metadata": {},
   "source": [
    "### random.standard_normal"
   ]
  },
  {
   "cell_type": "markdown",
   "metadata": {},
   "source": [
    "The `standard_normal` function is therefore a simplified version of the `normal` function where no mean or standard deviation figures need to be added, only the number of values to be randomly produced."
   ]
  },
  {
   "cell_type": "code",
   "execution_count": 115,
   "metadata": {},
   "outputs": [
    {
     "data": {
      "text/plain": [
       "array([-0.84683429, -0.00384437,  1.58410258, ...,  0.45745211,\n",
       "       -0.34831754,  0.90576822])"
      ]
     },
     "execution_count": 115,
     "metadata": {},
     "output_type": "execute_result"
    }
   ],
   "source": [
    "s = np.random.standard_normal(8000) # is a simplified version of normal and just takes one arguement of size producing similar results\n",
    "s"
   ]
  },
  {
   "cell_type": "code",
   "execution_count": 120,
   "metadata": {},
   "outputs": [
    {
     "data": {
      "image/png": "[encoded data removed]",
      "text/plain": [
       "<Figure size 432x288 with 1 Axes>"
      ]
     },
     "metadata": {},
     "output_type": "display_data"
    }
   ],
   "source": [
    "import matplotlib.pyplot as plt\n",
    "bin_heights, bin_borders, _ = plt.hist(s, bins='auto', label='histogram') #define bin numbers & heights (more bins means better visualisation of curve unlike example above that only has 10 bins)\n",
    "plt.hist(s) #plot the 8000 values on a simple histogram shows the similar outcome when using this function.\n",
    "plt.show()"
   ]
  },
  {
   "cell_type": "markdown",
   "metadata": {},
   "source": [
    "### random.standard_t (t-test)"
   ]
  },
  {
   "cell_type": "markdown",
   "metadata": {},
   "source": [
    "\n",
    "Scipy.org describes the t-test well as \"a significance test for the mean value of a normal distribution\" <sup>4</sup>. It is a complex but very useful test to compare the mean of populations that meet certain requirements and assumptions<sup>6</sup>. It has a hyperbolic distribution and requires *degrees of freedom* as an input, and size is optional. An example<sup>4</sup> of the implementation of this test is below:   "
   ]
  },
  {
   "cell_type": "code",
   "execution_count": 129,
   "metadata": {},
   "outputs": [
    {
     "data": {
      "text/plain": [
       "array([5260, 5470, 5640, 6180, 6390, 6515, 6805, 7515, 7515, 8230, 8770])"
      ]
     },
     "execution_count": 129,
     "metadata": {},
     "output_type": "execute_result"
    }
   ],
   "source": [
    "intake = np.array([5260, 5470, 5640, 6180, 6390, 6515, 6805, 7515, 7515, 8230, 8770]) #example of women's intake of calories per day in Kj\n",
    "intake\n",
    "\n",
    "#NOTE: recommended value is 7725Kj and there are 10 degrees of freedom"
   ]
  },
  {
   "cell_type": "code",
   "execution_count": 130,
   "metadata": {},
   "outputs": [
    {
     "data": {
      "text/plain": [
       "6753.636363636364"
      ]
     },
     "execution_count": 130,
     "metadata": {},
     "output_type": "execute_result"
    }
   ],
   "source": [
    "np.mean(intake) #establish the mean of the intake array which will remain fixed "
   ]
  },
  {
   "cell_type": "code",
   "execution_count": 126,
   "metadata": {},
   "outputs": [
    {
     "data": {
      "text/plain": [
       "1142.1232221373727"
      ]
     },
     "execution_count": 126,
     "metadata": {},
     "output_type": "execute_result"
    }
   ],
   "source": [
    "intake.std(ddof=1) \n",
    "\n",
    "#where “Delta Degrees of Freedom” is the divisor used in the calculation is N - ddof, \n",
    "#where N represents the number of elements. By default ddof is zero."
   ]
  },
  {
   "cell_type": "code",
   "execution_count": 127,
   "metadata": {},
   "outputs": [
    {
     "data": {
      "text/plain": [
       "array([-0.00536486,  2.46936731,  0.06304573, ..., -1.93005635,\n",
       "        1.40499177,  0.94573296])"
      ]
     },
     "execution_count": 127,
     "metadata": {},
     "output_type": "execute_result"
    }
   ],
   "source": [
    "s = np.random.standard_t(10, size=100000) \n",
    "s\n",
    "#the function is used to create a second array of random numbers to compare to the \"intake\" array. \n",
    "#the function tests if the sample mean is within 95% of the recommended value."
   ]
  },
  {
   "cell_type": "code",
   "execution_count": 131,
   "metadata": {},
   "outputs": [
    {
     "data": {
      "text/plain": [
       "0.00909"
      ]
     },
     "execution_count": 131,
     "metadata": {},
     "output_type": "execute_result"
    }
   ],
   "source": [
    "t = (np.mean(intake)-7725)/(intake.std(ddof=1)/np.sqrt(len(intake)))\n",
    "\n",
    "np.sum(s<t) / float(len(s)) \n",
    "\n",
    "#the two set of data are then compared using the one-sided t-test, to answer how far out in the distribution does the t statistic appear?"
   ]
  },
  {
   "cell_type": "markdown",
   "metadata": {},
   "source": [
    "The final figure is the p-value and in this case is approx. 0.009, which tells us that the null hypothesis has a probability of about 99% of being true."
   ]
  },
  {
   "cell_type": "markdown",
   "metadata": {},
   "source": [
    "### random.binomial"
   ]
  },
  {
   "cell_type": "markdown",
   "metadata": {},
   "source": [
    "Binomial distribution follows the following rules<sup>7</sup>: \n",
    "\n",
    "- the experiment consists of *n* repeated trials\n",
    "- each trial can result in just two possible outcomes i.e. success or failure\n",
    "- the probability of success (*P*) is the same on every trial\n",
    "- the trials are independent i.e. the outcome of one trial does not affect the outcome of other trials\n",
    "\n",
    "The parameters for the numpy function are therefore *n*, *P*, and the size of the sample nd it returns a binomial distributed array.\n",
    "\n",
    "An example is outlined below: "
   ]
  },
  {
   "cell_type": "code",
   "execution_count": 95,
   "metadata": {},
   "outputs": [
    {
     "data": {
      "text/plain": [
       "12.6"
      ]
     },
     "execution_count": 95,
     "metadata": {},
     "output_type": "execute_result"
    }
   ],
   "source": [
    "# 10,000 trials of equal probability of getting an even number on 3 dice throws.  \n",
    "p = sum(np.random.binomial(3, 0.5, 10000) == 0)/10000  \n",
    "\n",
    "p * 100"
   ]
  },
  {
   "cell_type": "markdown",
   "metadata": {},
   "source": [
    "The output is the % probability of a True outcome"
   ]
  },
  {
   "cell_type": "markdown",
   "metadata": {},
   "source": [
    "### random.power"
   ]
  },
  {
   "cell_type": "markdown",
   "metadata": {},
   "source": [
    "This function creates random values between 0 to 1 with a power distribution with positive exponent (a - 1). This function is also known as the power function distribution. It requires a float greater than 0 or array and can also accept a shape which defaults to null with a single number returned if no shape is specified."
   ]
  },
  {
   "cell_type": "code",
   "execution_count": 132,
   "metadata": {},
   "outputs": [],
   "source": [
    "a = 5. # where a is the size/shape of the data\n",
    "samples = 1000 # the number of values to sample\n",
    "s = np.random.power(a, samples) "
   ]
  },
  {
   "cell_type": "code",
   "execution_count": 133,
   "metadata": {},
   "outputs": [
    {
     "data": {
      "image/png": "[encoded data removed]",
      "text/plain": [
       "<Figure size 432x288 with 1 Axes>"
      ]
     },
     "metadata": {},
     "output_type": "display_data"
    }
   ],
   "source": [
    "plt.hist(s, bins=30) #specify 30 bins to be used\n",
    "plt.show()"
   ]
  },
  {
   "cell_type": "markdown",
   "metadata": {},
   "source": [
    "### random.laplace"
   ]
  },
  {
   "cell_type": "markdown",
   "metadata": {},
   "source": [
    "The Laplace A.K.A. double exponential distribution works with the following (optional) parameters:\n",
    "- float -  in this case is the mean of the distribution peak\n",
    "- the exponential decay\n",
    "- a shape which defaults to null with a single number returned if no shape is specified, with specified location (or mean) and scale (decay).\n",
    "\n",
    "Overall it is similar to the Gaussian/normal distribution, but is sharper at the peak and has fatter tails. It examines the difference between two independent, identically distributed exponential random variables<sup>4</sup>."
   ]
  },
  {
   "cell_type": "code",
   "execution_count": 138,
   "metadata": {},
   "outputs": [],
   "source": [
    "loc, scale = 0, 1 #where loc is the position of the distribution peak and scale is the exponential decay \n",
    "s = np.random.laplace(loc, scale, 1000) #1000 is the size of the dataset"
   ]
  },
  {
   "cell_type": "code",
   "execution_count": 145,
   "metadata": {},
   "outputs": [
    {
     "data": {
      "image/png": "[encoded data removed]",
      "text/plain": [
       "<Figure size 432x288 with 1 Axes>"
      ]
     },
     "metadata": {},
     "output_type": "display_data"
    }
   ],
   "source": [
    "count, bins, ignored = plt.hist(s, 30, density=True) #random dataset, 30 bins requested and density=Trye works to normalize our inputs "
   ]
  },
  {
   "cell_type": "code",
   "execution_count": 147,
   "metadata": {},
   "outputs": [
    {
     "data": {
      "text/plain": [
       "[<matplotlib.lines.Line2D at 0xb3e8048>]"
      ]
     },
     "execution_count": 147,
     "metadata": {},
     "output_type": "execute_result"
    },
    {
     "data": {
      "image/png": "[encoded data removed]",
      "text/plain": [
       "<Figure size 432x288 with 1 Axes>"
      ]
     },
     "metadata": {},
     "output_type": "display_data"
    }
   ],
   "source": [
    "count, bins, ignored = plt.hist(s, 30, density=True) #random dataset, 30 bins requested and density=Trye works to normalize our inputs \n",
    "x = np.arange(-8., 8., .01) #creates x axis values from -8 to 8 for creation of curve\n",
    "pdf = np.exp(-abs(x-loc)/scale)/(2.*scale) #creates y axis values for creation of curve\n",
    "plt.plot(x, pdf) # plots x and y to create laplace (exponenmtial decay) curve"
   ]
  },
  {
   "cell_type": "markdown",
   "metadata": {},
   "source": [
    "## PART 4: Use of Seeds in Generating Pseudorandom Numbers"
   ]
  },
  {
   "cell_type": "markdown",
   "metadata": {},
   "source": [
    "In William McKinney's \"Python for Data Analysis\"<sup>3</sup>, he explains why we refer to these python/numpy generated nbumbers as pseudo-random numbers. \n",
    "\n",
    ">\"We say that these are pseudorandom numbers because they are generated by an algorithm with deterministic behavior based on the seed of the random number generator. You can change NumPy’s random number generation seed using `np.random.seed`\"\n",
    "\n",
    "In otherwords, these numbers appear random but there is an algorithim driving their creation. To be truely random, there needs to be little or no external influence on the outcome, for example, flipping a coin, rolling a dice, dealng shufffeled cards. "
   ]
  },
  {
   "cell_type": "code",
   "execution_count": 173,
   "metadata": {},
   "outputs": [
    {
     "data": {
      "text/plain": [
       "array([0.19151945, 0.62210877, 0.43772774, 0.78535858, 0.77997581,\n",
       "       0.27259261, 0.27646426, 0.80187218, 0.95813935, 0.87593263])"
      ]
     },
     "execution_count": 173,
     "metadata": {},
     "output_type": "execute_result"
    }
   ],
   "source": [
    "np. random. seed(1234) #example of where the seed for the random number generation can be set and therefore controlled \n",
    "#Note: if no seed is specified, the current system time is used or other seed determined by the local operating system\n",
    "w = np.random.rand(10)\n",
    "w #rerunning the cell to produce a new output does not change the random numbers that were first generated as the seed producing them remains the same. \n",
    "\n",
    "#if no seed was specified, new random numbers woudl appear each time I ran the cell as the time would be different and therefore the seed different "
   ]
  },
  {
   "cell_type": "markdown",
   "metadata": {},
   "source": [
    "McKinney goes on to say that: \n",
    "\n",
    ">\"The data generation functions in `numpy.random` use a global random seed. To avoid global state, you can use `numpy.random.RandomState` to create a random number generator isolated from others\""
   ]
  },
  {
   "cell_type": "code",
   "execution_count": 172,
   "metadata": {},
   "outputs": [
    {
     "data": {
      "text/plain": [
       "array([ 0.47143516, -1.19097569,  1.43270697, -0.3126519 , -0.72058873,\n",
       "        0.88716294,  0.85958841, -0.6365235 ,  0.01569637, -2.24268495])"
      ]
     },
     "execution_count": 172,
     "metadata": {},
     "output_type": "execute_result"
    }
   ],
   "source": [
    "rng = np. random. RandomState(1234)\n",
    "rng. randn(10)"
   ]
  },
  {
   "cell_type": "code",
   "execution_count": 166,
   "metadata": {},
   "outputs": [
    {
     "data": {
      "text/plain": [
       "<mtrand.RandomState at 0xb6d3480>"
      ]
     },
     "execution_count": 166,
     "metadata": {},
     "output_type": "execute_result"
    }
   ],
   "source": [
    "rng #this command requests information on the current random generator in use by python/numpy (https://blogs.mathworks.com/cleve/2015/04/17/random-number-generator-mersenne-twister/)"
   ]
  },
  {
   "cell_type": "markdown",
   "metadata": {},
   "source": [
    "The \"mt\" prefix indicates that the Mersenne Twister pseudo-random number generator is in use<sup>8</sup>.  The creators of the generator, Matsumoto and Nishimura, describe it as a;\n",
    "> \"A 623 dimentionally equidistributed uniform pseudorandom number generator <sup>9</sup>.\"\n",
    "\n",
    "It is a generator that is in use widely in data programs but is not suitable for modern cryptology. Its strength is in its ability to have a massive 2<sup>19937</sup>-1 instances before it begins repeating sequences* but its weakness lies in the seed. If the seed is revealed or guessed, the entire suquence can then be discovered<sup>10</sup>.  \n",
    "\n",
    "\\* this is a Mersenne prime number meaning that it is a prime number that is one less than a power of two (M<sub>n</sub>=2<sup>n</sup>−1 where n is an integer)."
   ]
  },
  {
   "cell_type": "markdown",
   "metadata": {},
   "source": [
    "In summary, the generation of pseudorandom numbers is useful for programming and randomness not associated with cryptography and can be determined by the time meaning that random data sets can be produced at will to create, test or play with.   "
   ]
  },
  {
   "cell_type": "markdown",
   "metadata": {},
   "source": [
    "## References"
   ]
  },
  {
   "cell_type": "markdown",
   "metadata": {},
   "source": [
    "1. https://docs.scipy.org/doc/numpy/reference/routines.random.html\n",
    "2. Ian McLoughlan Programming for Data Analysis, GMIT Lectures Week 2 \"PyPlot_Examples_Master\" \n",
    "3. Python for Data Analysis, William McKinney\n",
    "    2.6 Pseudorandom Number Generation (page 118/119)\n",
    "4. https://docs.scipy.org/doc/numpy/reference/routines.random.html \n",
    "5. https://stackoverflow.com/questions/18829185/difference-between-various-numpy-random-functions\n",
    "6. https://www.encyclopediaofmath.org/index.php/Student_test\n",
    "7. https://stattrek.com/probability-distributions/binomial.aspx\n",
    "8. https://docs.scipy.org/doc/numpy-1.6.0/reference/generated/numpy.random.mtrand.RandomState.html)\n",
    "9. Marsenne Twister: A 623 dimentionally equidistributed uniform pseudorandom number generator, Matsumoto and Nishimura, 1997 http://www.math.sci.hiroshima-u.ac.jp/~m-mat/MT/ARTICLES/mt.pdf\n",
    "10. https://asecuritysite.com/encryption/twister"
   ]
  },
  {
   "cell_type": "markdown",
   "metadata": {},
   "source": [
    "## Back Up/Work in Progress"
   ]
  },
  {
   "cell_type": "code",
   "execution_count": 1,
   "metadata": {},
   "outputs": [
    {
     "data": {
      "text/plain": [
       "10737573"
      ]
     },
     "execution_count": 1,
     "metadata": {},
     "output_type": "execute_result"
    }
   ],
   "source": [
    "import numpy as np\n",
    "import random\n",
    "import seaborn as sns\n",
    "import itertools\n",
    "%matplotlib inline\n",
    "\n",
    "lotto_numbers = list(range(47))\n",
    "winning_numbers = list(np.random.permutation(48))\n",
    "y = winning_numbers[0:6]\n",
    "y\n",
    "\n",
    "poss = list(itertools.combinations(lotto_numbers, 6))\n",
    "x = len(poss)\n",
    "x\n"
   ]
  },
  {
   "cell_type": "code",
   "execution_count": null,
   "metadata": {},
   "outputs": [],
   "source": [
    "poss = list(itertools.combinations(lotto_numbers, 6))\n",
    "x = len(poss)\n",
    "x"
   ]
  },
  {
   "cell_type": "code",
   "execution_count": 174,
   "metadata": {},
   "outputs": [
    {
     "ename": "SyntaxError",
     "evalue": "invalid syntax (<ipython-input-174-9b7f81104678>, line 12)",
     "output_type": "error",
     "traceback": [
      "\u001b[1;36m  File \u001b[1;32m\"<ipython-input-174-9b7f81104678>\"\u001b[1;36m, line \u001b[1;32m12\u001b[0m\n\u001b[1;33m    print(Yes)a\u001b[0m\n\u001b[1;37m              ^\u001b[0m\n\u001b[1;31mSyntaxError\u001b[0m\u001b[1;31m:\u001b[0m invalid syntax\n"
     ]
    }
   ],
   "source": [
    "\n",
    "#1 in 10,737,573 chances of getting 6 numbers from a 47 ball draw.\n",
    "\n",
    "#So if I play the same numbers every Saturday for a year (52 weeks) \n",
    "favourite_numbers = [1, 3, 11, 16, 29, 37]\n",
    "z1 = list(np.random.permutation(poss))\n",
    "z = z1[0:52]\n",
    "z\n",
    "\n",
    "#needs work\n",
    "if z.count(favourite_numbers) == 1:\n",
    "    print(Yes)a\n",
    "    \n",
    "# Count the overlap between the correct answer, and each of the 70 possiblities.\n",
    "counts = [len(favourite_numbers & set(z)) for i in poss]\n",
    "counts\n",
    "# Creat the plot.\n",
    "sns.countplot(counts)"
   ]
  }
 ],
 "metadata": {
  "kernelspec": {
   "display_name": "Python 3",
   "language": "python",
   "name": "python3"
  },
  "language_info": {
   "codemirror_mode": {
    "name": "ipython",
    "version": 3
   },
   "file_extension": ".py",
   "mimetype": "text/x-python",
   "name": "python",
   "nbconvert_exporter": "python",
   "pygments_lexer": "ipython3",
   "version": "3.6.5"
  }
 },
 "nbformat": 4,
 "nbformat_minor": 2
}
