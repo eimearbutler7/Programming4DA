{
 "cells": [
  {
   "cell_type": "markdown",
   "metadata": {},
   "source": [
    "# Programming for Data Analysis Assignment "
   ]
  },
  {
   "cell_type": "markdown",
   "metadata": {},
   "source": [
    "## Semester 2, October 2018"
   ]
  },
  {
   "cell_type": "markdown",
   "metadata": {},
   "source": [
    "Problem statement\n",
    "\n",
    "The following assignment concerns the `numpy. random` package in Python. You are required to create a Jupyter notebook explaining the use of the package, including detailed explanations of at least five of the distributions provided for in the package.\n",
    "\n",
    "There are four distinct tasks to be carried out in your Jupyter notebook.\n",
    "1. Explain the overall purpose of the package.\n",
    "2. Explain the use of the “Simple random data” and “Permutations” functions.\n",
    "3. Explain the use and purpose of at least five “Distributions” functions.\n",
    "4. Explain the use of seeds in generating pseudorandom numbers."
   ]
  },
  {
   "cell_type": "markdown",
   "metadata": {},
   "source": [
    "## PART 1: Overall Purpose of `numpy.random` Package"
   ]
  },
  {
   "cell_type": "markdown",
   "metadata": {},
   "source": [
    "The overall purpose of the `numpy.random` package is to generage random numbers for the user. These can be used, for example, to create games, test hypotheses or even as a useful teaching aid. \n",
    "\n",
    "Sounds simple, right? Not so simple actually! At the most basic level, the package must at least account for the shape of the array. \n",
    "\n",
    "Here for example, using the most basic command `random.rand` the package will generate numbers defaulting to a uniform distribution between 0 and 1 (not including 1 itself)<sup>1</sup>:  "
   ]
  },
  {
   "cell_type": "code",
   "execution_count": 1,
   "metadata": {},
   "outputs": [
    {
     "data": {
      "text/plain": [
       "array([0.3222713])"
      ]
     },
     "execution_count": 1,
     "metadata": {},
     "output_type": "execute_result"
    }
   ],
   "source": [
    "import numpy as np\n",
    "np.random.rand(1)"
   ]
  },
  {
   "cell_type": "markdown",
   "metadata": {},
   "source": [
    "An example with a more complex 2 dimentional array is also seen below:"
   ]
  },
  {
   "cell_type": "code",
   "execution_count": 18,
   "metadata": {},
   "outputs": [
    {
     "data": {
      "text/plain": [
       "array([[0.4928096 , 0.5224674 , 0.05061622],\n",
       "       [0.26994868, 0.07387723, 0.36190567],\n",
       "       [0.49962469, 0.38232697, 0.74167066],\n",
       "       [0.45347767, 0.10774994, 0.78769041],\n",
       "       [0.51999141, 0.1297198 , 0.66438757]])"
      ]
     },
     "execution_count": 18,
     "metadata": {},
     "output_type": "execute_result"
    }
   ],
   "source": [
    "np.random.rand(5,3)"
   ]
  },
  {
   "cell_type": "markdown",
   "metadata": {},
   "source": [
    "A light change to the code alters the request to numbers within the \"Standard Distribution\" where the mean of the data is 0 and variance is 1. \"Standard Distribution\" implys the data will fit to a bell shaped curve around 0<sup>1</sup>.\n",
    "\n",
    "For example:"
   ]
  },
  {
   "cell_type": "code",
   "execution_count": 35,
   "metadata": {},
   "outputs": [],
   "source": [
    "x = np.random.randn(10000, 1)\n"
   ]
  },
  {
   "cell_type": "markdown",
   "metadata": {},
   "source": [
    "To show the distribution of these random numbers, we need to plot them on a histogram to see that they are indeed centered around 0<sup>2</sup>. "
   ]
  },
  {
   "cell_type": "code",
   "execution_count": 39,
   "metadata": {},
   "outputs": [
    {
     "data": {
      "image/png": "[encoded data removed]",
      "text/plain": [
       "<Figure size 432x288 with 1 Axes>"
      ]
     },
     "metadata": {},
     "output_type": "display_data"
    }
   ],
   "source": [
    "import matplotlib.pyplot as plt\n",
    "\n",
    "plt.hist(x)\n",
    "\n",
    "plt.show()"
   ]
  },
  {
   "cell_type": "markdown",
   "metadata": {},
   "source": [
    "**Note 1:** `random.randn` only accepts integers as inputs, this is a convenience function. The example above uses a simple array to produce a simple example of the data transposed into a histogram. `random.normal` however is capable of performing the same action but with floats and more parameters making it a more functional tool.   "
   ]
  },
  {
   "cell_type": "markdown",
   "metadata": {},
   "source": [
    "**Note 2:** Python actually has its own random package but this is significantly slower and less functional than `numpy.random`<sup>3</sup>."
   ]
  },
  {
   "cell_type": "markdown",
   "metadata": {},
   "source": [
    "As mentioned above, the random package can be used in games where the user must select an option where python has randomly selected the \"winner\". "
   ]
  },
  {
   "cell_type": "code",
   "execution_count": 55,
   "metadata": {},
   "outputs": [
    {
     "data": {
      "text/plain": [
       "'Sydney'"
      ]
     },
     "execution_count": 55,
     "metadata": {},
     "output_type": "execute_result"
    }
   ],
   "source": [
    "# Python provides a library called random to generate pseudo-random numbers\n",
    "import random\n",
    "\n",
    "available_choices = ['Dublin', 'New York', 'Sydney'] #add comment\n",
    "\n",
    "# Pick a random city from the list.\n",
    "winning_city = random.choice(available_choices)\n",
    "winning_city"
   ]
  },
  {
   "cell_type": "markdown",
   "metadata": {},
   "source": [
    "It can also be used to test Hypotheses, particularly a \"Null\" Hypothesis, where the more sceptical assumption is made and then tested to see how likely it is that the person/object/function etc. is doing the thing it is claiming to do. \n",
    "\n",
    "For example, the Null Hypothesis could be that from 6 playing cards, 3 red, 3 black, a magician can pick the red cards. In order to test the theory that the magician is just guessing, we can perform the following analysis:"
   ]
  },
  {
   "cell_type": "code",
   "execution_count": 94,
   "metadata": {},
   "outputs": [
    {
     "data": {
      "text/plain": [
       "[0, 1, 2, 3, 4, 5]"
      ]
     },
     "execution_count": 94,
     "metadata": {},
     "output_type": "execute_result"
    }
   ],
   "source": [
    "# The six cards.\n",
    "cards = list(range(6))\n",
    "cards"
   ]
  },
  {
   "cell_type": "raw",
   "metadata": {},
   "source": [
    "Number of ways of selecting 3 red cards first is as follows: "
   ]
  },
  {
   "cell_type": "code",
   "execution_count": 103,
   "metadata": {},
   "outputs": [
    {
     "data": {
      "text/plain": [
       "0.05"
      ]
     },
     "execution_count": 103,
     "metadata": {},
     "output_type": "execute_result"
    }
   ],
   "source": [
    "#1 chance divided by the different number of possible outcomes for each card draw i.e. 6 is the first as there are 6 cards to draw from on the first go, then 5 and 4. \n",
    "#They are then divigded by the possibilities for the 3 remaining cards not selected i.e. 3, then 2, then only 1. \n",
    "\n",
    "1/((6*5*4)/(3*2*1)) #1 in 20 chance or 5% "
   ]
  },
  {
   "cell_type": "markdown",
   "metadata": {},
   "source": [
    "This is confirmed by using the `itertools.combinations` function to list out all the possible combinations of choices the magician could make. It again confirms there is a 1 in 20 chance of getting the only right answer.   "
   ]
  },
  {
   "cell_type": "code",
   "execution_count": 104,
   "metadata": {
    "scrolled": false
   },
   "outputs": [
    {
     "data": {
      "text/plain": [
       "20"
      ]
     },
     "execution_count": 104,
     "metadata": {},
     "output_type": "execute_result"
    }
   ],
   "source": [
    "import itertools\n",
    "\n",
    "poss = list(itertools.combinations(cards, 3))\n",
    "len(poss)"
   ]
  },
  {
   "cell_type": "code",
   "execution_count": 105,
   "metadata": {
    "scrolled": true
   },
   "outputs": [
    {
     "data": {
      "text/plain": [
       "<matplotlib.axes._subplots.AxesSubplot at 0x5b576ba8>"
      ]
     },
     "execution_count": 105,
     "metadata": {},
     "output_type": "execute_result"
    },
    {
     "data": {
      "image/png": "[encoded data removed]",
      "text/plain": [
       "<Figure size 432x288 with 1 Axes>"
      ]
     },
     "metadata": {},
     "output_type": "display_data"
    }
   ],
   "source": [
    "import random\n",
    "import seaborn as sns\n",
    "\n",
    "# we then use random.choice to select a correct answer from the list of 20 to simulate the experiment.\n",
    "red_cards = set(random.choice(poss))\n",
    "\n",
    "# this function then counts the overlap between the correct answer, and each of the 20 possiblities.\n",
    "counts = [len(red_cards & set(i)) for i in itertools.combinations(cards, 3)]\n",
    "\n",
    "# This function then draws a plot so that we may analyse the data visually.\n",
    "sns.countplot(counts)"
   ]
  },
  {
   "cell_type": "markdown",
   "metadata": {},
   "source": [
    "We can see that apart from the 5% chance the magician will get the red cards, there is also a 50% chance that the magician will get at least 2 red cards if only randomly guessing the pick.\n",
    "\n",
    "The above examples show how random data can be used within the Python package."
   ]
  },
  {
   "cell_type": "markdown",
   "metadata": {},
   "source": [
    "## PART 2: Use of \"Simple Random Data\" and \"Permutations\" Functions"
   ]
  },
  {
   "cell_type": "markdown",
   "metadata": {},
   "source": [
    "The use of the Simple Random Data versus Permutations Functions is best seen through examples. \n",
    "\n",
    "Functions listed as Simple Random Data in Scipy.org<sup>4</sup> include `random.rand` and `random.randn` as demonstrated above, as well as the following:\n",
    "\n",
    "### randint and random_integers\n",
    "`random.randint` and `random.random_integers` are similar in that they accept boundry intervals of integers but are half-open interval and closed interval respectively. If no high integer is assigned for `random.randint`, 0 is the lowest value assigned, while for `random.random_integers`, the low parameter becomes the highest such integer and 1. \n",
    "Data type (dtype) is also an option for `random.randint`. "
   ]
  },
  {
   "cell_type": "code",
   "execution_count": 121,
   "metadata": {},
   "outputs": [
    {
     "data": {
      "text/plain": [
       "array([37, 25, 17,  6,  2, 54, 55, 53, 27, 59, 15, 31, 26, 32, 27,  4, 47])"
      ]
     },
     "execution_count": 121,
     "metadata": {},
     "output_type": "execute_result"
    }
   ],
   "source": [
    "np.random.randint(0, 60, size=17) #request to produce an array of 20 random integers from 0 to 59. Half-open interval includes 0 but not 60."
   ]
  },
  {
   "cell_type": "markdown",
   "metadata": {},
   "source": [
    "Interestingly, ipython is moving away from `random.random_integers` for the preferable `random.randint`and actively suggests to use it. "
   ]
  },
  {
   "cell_type": "code",
   "execution_count": 122,
   "metadata": {},
   "outputs": [
    {
     "name": "stderr",
     "output_type": "stream",
     "text": [
      "C:\\ProgramData\\Anaconda3\\lib\\site-packages\\ipykernel_launcher.py:1: DeprecationWarning: This function is deprecated. Please call randint(1, 5 + 1) instead\n",
      "  \"\"\"Entry point for launching an IPython kernel.\n"
     ]
    },
    {
     "data": {
      "text/plain": [
       "array([1, 4, 2, 1, 3, 2, 3, 5, 5, 2, 2, 4, 2, 2, 2, 4, 1])"
      ]
     },
     "execution_count": 122,
     "metadata": {},
     "output_type": "execute_result"
    }
   ],
   "source": [
    "np.random.random_integers(5, size=17) #closed interval includes 1 and 5 "
   ]
  },
  {
   "cell_type": "markdown",
   "metadata": {},
   "source": [
    "### random_sample, random, ranf, sample"
   ]
  },
  {
   "cell_type": "markdown",
   "metadata": {},
   "source": [
    "Reviewing these 4 functions they all appear to be producing the same results using a “continuous uniform” distribution. A quick review of the characteristics of the functions show identical results. See table below created from data in Scipy.org<sup>4</sup>.\n",
    "\n",
    "\n",
    "|**Function** |**Returns** | **Interval** | **Parameters**\n",
    "|:---|:---|:---|:---\n",
    "|`random_sample` | float | half-open interval [0.0, 1.0) | size (optional)\n",
    "|`random` | float | half-open interval [0.0, 1.0) | size (optional)\n",
    "|`ranf` | float | half-open interval [0.0, 1.0) | size (optional)\n",
    "|`sample` | float | half-open interval [0.0, 1.0) | size (optional)\n",
    "\n",
    "After some research, it indeed appears to be correct that they are fundamentally the same and all produce random numbers<sup>5</sup>. Examples are as follows: "
   ]
  },
  {
   "cell_type": "code",
   "execution_count": 120,
   "metadata": {},
   "outputs": [
    {
     "data": {
      "text/plain": [
       "array([[0.0913339 , 0.96010288],\n",
       "       [0.14873661, 0.24940174],\n",
       "       [0.56511547, 0.01165562],\n",
       "       [0.68284772, 0.58122547],\n",
       "       [0.27787015, 0.67661881],\n",
       "       [0.92296369, 0.70910359],\n",
       "       [0.937086  , 0.92660923],\n",
       "       [0.83163698, 0.48971475]])"
      ]
     },
     "execution_count": 120,
     "metadata": {},
     "output_type": "execute_result"
    }
   ],
   "source": [
    "np.random.random_sample((8,2)) #Defaults to a range betweeen 0 and 1.0, not including 0 itself. "
   ]
  },
  {
   "cell_type": "code",
   "execution_count": 52,
   "metadata": {},
   "outputs": [
    {
     "data": {
      "text/plain": [
       "array([[7.42356409, 8.18257946, 5.57558377],\n",
       "       [7.82295869, 4.40692045, 5.01238881],\n",
       "       [9.08431008, 6.94047964, 4.63498464],\n",
       "       [7.64195255, 7.34071159, 9.43569863]])"
      ]
     },
     "execution_count": 52,
     "metadata": {},
     "output_type": "execute_result"
    }
   ],
   "source": [
    "a = 3 #Lowest value\n",
    "b = 10 #Highest value \n",
    "x = 3 #Array Size x axis \n",
    "y = 4 #Array Size y axis\n",
    "\n",
    "(b - a) * np.random.random_sample((y, x)) + a \n",
    "#Using the established Requests an array of random numbers from 3 (but not including 3 itself) to 10\n"
   ]
  },
  {
   "cell_type": "markdown",
   "metadata": {},
   "source": [
    "### random.choice"
   ]
  },
  {
   "cell_type": "markdown",
   "metadata": {},
   "source": [
    "We have already seen `random.choice` in action earlier where the game was created to select a city and then Python would choose from the established list, which one is the \"winner\". Most examples of this function in use are below:"
   ]
  },
  {
   "cell_type": "code",
   "execution_count": 82,
   "metadata": {},
   "outputs": [
    {
     "data": {
      "text/plain": [
       "array([18, 14, 16, 11,  0, 15,  8,  8,  0,  2,  8,  7, 12,  2, 11])"
      ]
     },
     "execution_count": 82,
     "metadata": {},
     "output_type": "execute_result"
    }
   ],
   "source": [
    "np.random.choice(20, 15) \n",
    "# NOTE: this is equivalent to np.random.randint(0,20,15) \n",
    "# 15 random integers are selected in the output array between 0 and 20 without including 20"
   ]
  },
  {
   "cell_type": "markdown",
   "metadata": {},
   "source": [
    "This function also allows you to influence the probability of each entry too using a *p* entry to create non-uniform output, for example:"
   ]
  },
  {
   "cell_type": "code",
   "execution_count": 83,
   "metadata": {},
   "outputs": [
    {
     "data": {
      "text/plain": [
       "array([3, 2, 2, 2, 2], dtype=int64)"
      ]
     },
     "execution_count": 83,
     "metadata": {},
     "output_type": "execute_result"
    }
   ],
   "source": [
    "np.random.choice(5, 5, p=[0, 0, 0.4, 0.5, 0.1]) #9 of every 10 selections shoudl result in a 2 or a 3 as each p location corresponds to the array's index position"
   ]
  },
  {
   "cell_type": "markdown",
   "metadata": {},
   "source": [
    "Using the previous game to choose a city we can now create a preferance for one city over the others."
   ]
  },
  {
   "cell_type": "code",
   "execution_count": 118,
   "metadata": {},
   "outputs": [
    {
     "data": {
      "text/plain": [
       "'Sydney'"
      ]
     },
     "execution_count": 118,
     "metadata": {},
     "output_type": "execute_result"
    }
   ],
   "source": [
    "available_choices = ['Dublin', 'New York', 'Sydney'] #add comment\n",
    "\n",
    "# Pick a random city from the list.\n",
    "winning_city = np.random.choice(available_choices, p=[0.1, 0.3, 0.6]) # NOTE: I did need to add np. to use the numpy functionality to influence probability as this is not a feature of the basic python random function \n",
    "winning_city"
   ]
  },
  {
   "cell_type": "markdown",
   "metadata": {},
   "source": [
    "### Bytes"
   ]
  },
  {
   "cell_type": "markdown",
   "metadata": {},
   "source": [
    "By inputting the desired length, this function will return random number of bytes, for example:"
   ]
  },
  {
   "cell_type": "code",
   "execution_count": 128,
   "metadata": {},
   "outputs": [
    {
     "data": {
      "text/plain": [
       "b'\\xcb\\x0f\\xae\\xd1\\x0b'"
      ]
     },
     "execution_count": 128,
     "metadata": {},
     "output_type": "execute_result"
    }
   ],
   "source": [
    "np.random.bytes(5)"
   ]
  },
  {
   "cell_type": "markdown",
   "metadata": {},
   "source": [
    "### Shuffle and Permutation"
   ]
  },
  {
   "cell_type": "markdown",
   "metadata": {},
   "source": [
    "Moving onto the two Permutations Functions, the first is shuffle and as you might expect, its function is to shuffle the sequence of information fed into it. for example:"
   ]
  },
  {
   "cell_type": "code",
   "execution_count": 145,
   "metadata": {},
   "outputs": [
    {
     "data": {
      "text/plain": [
       "array([ 0,  1,  2,  3,  4,  5,  6,  7,  8,  9, 10, 11, 12, 13, 14, 15, 16])"
      ]
     },
     "execution_count": 145,
     "metadata": {},
     "output_type": "execute_result"
    }
   ],
   "source": [
    "numbers = np.arange(17) #creates list of numbers from 0-16\n",
    "numbers"
   ]
  },
  {
   "cell_type": "code",
   "execution_count": 146,
   "metadata": {},
   "outputs": [
    {
     "data": {
      "text/plain": [
       "array([16,  3,  5,  1,  2, 13, 11, 12, 15,  7, 10,  8, 14,  9,  0,  4,  6])"
      ]
     },
     "execution_count": 146,
     "metadata": {},
     "output_type": "execute_result"
    }
   ],
   "source": [
    "np.random.shuffle(numbers) #shuffles their order\n",
    "numbers"
   ]
  },
  {
   "cell_type": "markdown",
   "metadata": {},
   "source": [
    "When we call `numbers` the second time, the resulting array is the original list except it now has shuffled numbers i.e. the numbers are shuffled *in situ* and this is now `numbers`. \n",
    "\n",
    "However, with a `permetation`, although the result looks similar, a new copy of the array is produced containing the shuffled numbers. The original array can still be called as it ramains unchanged. "
   ]
  },
  {
   "cell_type": "code",
   "execution_count": 155,
   "metadata": {},
   "outputs": [
    {
     "data": {
      "text/plain": [
       "array([0, 1, 2, 3, 4, 5, 6, 7, 8, 9])"
      ]
     },
     "execution_count": 155,
     "metadata": {},
     "output_type": "execute_result"
    }
   ],
   "source": [
    "x = np.arange(10) #create an array called x containing a range of numbers from 0 to 9\n",
    "x"
   ]
  },
  {
   "cell_type": "code",
   "execution_count": 153,
   "metadata": {},
   "outputs": [
    {
     "data": {
      "text/plain": [
       "array([9, 2, 4, 1, 7, 5, 3, 0, 6, 8])"
      ]
     },
     "execution_count": 153,
     "metadata": {},
     "output_type": "execute_result"
    }
   ],
   "source": [
    "np.random.permutation(x) #create a permutated version of c (a copy of x except now shuffled)"
   ]
  },
  {
   "cell_type": "code",
   "execution_count": 154,
   "metadata": {},
   "outputs": [
    {
     "data": {
      "text/plain": [
       "array([0, 1, 2, 3, 4, 5, 6, 7, 8, 9])"
      ]
     },
     "execution_count": 154,
     "metadata": {},
     "output_type": "execute_result"
    }
   ],
   "source": [
    "x #we can see when we call x again, it is the original array as it has not been changes, only a copy made above"
   ]
  },
  {
   "cell_type": "markdown",
   "metadata": {},
   "source": [
    "## Summary"
   ]
  },
  {
   "cell_type": "markdown",
   "metadata": {},
   "source": [
    "In summary, the difference between the \"Simple Random Data\" and \"Permutations\" Functions is that Simple Random Data is selecting data randomly from a range of data input into the function, along with potentially size, shape or probability. Permutations however are instead mixing the existing array of data randomly, either within the original array itself (`shuffle`) or by creating a copy of the array (`permutation`).  "
   ]
  },
  {
   "cell_type": "markdown",
   "metadata": {},
   "source": [
    "## PART 3: Use and Purpose of Five \"Distributions\" Functions"
   ]
  },
  {
   "cell_type": "markdown",
   "metadata": {},
   "source": [
    "In this section I will examine the use and purpose of the following 5 \"Distributions\" Functions<sup>4</sup> :\n",
    "\n",
    "- `random.normal`\n",
    "- `random.standard_normal`\n",
    "- `random.standard_t`\n",
    "- `random.binomial`\n",
    "- `random.laplace`\n"
   ]
  },
  {
   "cell_type": "markdown",
   "metadata": {},
   "source": [
    "### random.normal"
   ]
  },
  {
   "cell_type": "markdown",
   "metadata": {},
   "source": [
    "`random.normal` draws its selection of numbers from the normal (Gaussian) distribution curve A.K.A Bell curve due to its shape. Normal distribution is designed to capture the variation often seen in nature. The percentage of values reduce as you move away from the mean of the curve and are measured along the x axis in units of standard deviation. The percentage for each standard deviation away from the centre is \n",
    "- approximately 68% of values are within one standard deviation (σ) away from the mean (x̅), \n",
    "- approximately 95% of values are within two standard deviations (σ) away from the mean (x̅),\n",
    "- approximately 99.7% of values are within three standard deviations (σ) away from the mean (x̅)\n",
    "\n",
    "  or 95% of the area of a normal distribution is within 1.96 standard deviations (σ) of the mean (x̅)"
   ]
  },
  {
   "cell_type": "code",
   "execution_count": 189,
   "metadata": {},
   "outputs": [
    {
     "data": {
      "text/plain": [
       "array([ 0.09804586,  0.07609019, -0.01222654, ...,  0.03472528,\n",
       "       -0.0468335 , -0.01676744])"
      ]
     },
     "execution_count": 189,
     "metadata": {},
     "output_type": "execute_result"
    }
   ],
   "source": [
    "mu, sigma = 0, 0.1 #takes arguements for the mean and standard deviation\n",
    "x = np.random.normal(mu, sigma, 8000)\n",
    "x"
   ]
  },
  {
   "cell_type": "code",
   "execution_count": 185,
   "metadata": {},
   "outputs": [
    {
     "data": {
      "image/png": "[encoded data removed]",
      "text/plain": [
       "<Figure size 432x288 with 1 Axes>"
      ]
     },
     "metadata": {},
     "output_type": "display_data"
    }
   ],
   "source": [
    "import matplotlib.pyplot as plt\n",
    "\n",
    "plt.hist(x) #plot the 8000 values on a simple histogram.\n",
    "plt.show()"
   ]
  },
  {
   "cell_type": "code",
   "execution_count": 186,
   "metadata": {},
   "outputs": [
    {
     "data": {
      "text/plain": [
       "<matplotlib.legend.Legend at 0x4ef39208>"
      ]
     },
     "execution_count": 186,
     "metadata": {},
     "output_type": "execute_result"
    },
    {
     "data": {
      "image/png": "[encoded data removed]",
      "text/plain": [
       "<Figure size 432x288 with 1 Axes>"
      ]
     },
     "metadata": {},
     "output_type": "display_data"
    }
   ],
   "source": [
    "#source to add normal curve to data: https://stackoverflow.com/questions/35544233/fit-a-curve-to-a-histogram-in-python\n",
    "\n",
    "from scipy.optimize import curve_fit \n",
    "\n",
    "def gaussian(x, mean, amplitude, standard_deviation): #define the parameters of a normal distribution curve* \n",
    "    return amplitude * np.exp( - ((x - mean) / standard_deviation) ** 2)\n",
    "\n",
    "bin_heights, bin_borders, _ = plt.hist(x, bins='auto', label='histogram') #define bin numbers & heights (more bins means better visualisation of curve unlike example above that only has 10 bins)\n",
    "\n",
    "bin_centers = bin_borders[:-1] + np.diff(bin_borders) / 2\n",
    "popt, _ = curve_fit(gaussian, bin_centers, bin_heights, p0=[1., 0., 1.])\n",
    "\n",
    "x_interval_for_fit = np.linspace(bin_borders[0], bin_borders[-1], 8000)\n",
    "plt.plot(x_interval_for_fit, gaussian(x_interval_for_fit, *popt), label='fit')\n",
    "plt.legend()\n"
   ]
  },
  {
   "cell_type": "markdown",
   "metadata": {},
   "source": [
    "Imagine overlaying the above curve with the textbook Bell Shaped Curve and you can see how they are very close in shape.\n",
    "\n",
    "![alt text](https://upload.wikimedia.org/wikipedia/commons/8/8c/Standard_deviation_diagram.svg)"
   ]
  },
  {
   "cell_type": "markdown",
   "metadata": {},
   "source": [
    "### random.standard_normal"
   ]
  },
  {
   "cell_type": "markdown",
   "metadata": {},
   "source": [
    "The `standard_normal` function is therefore a simplified version of the `normal` function where no mean or standard deviation figures need to be added, only the number of values to be randomly produced."
   ]
  },
  {
   "cell_type": "code",
   "execution_count": 190,
   "metadata": {},
   "outputs": [
    {
     "data": {
      "text/plain": [
       "array([-0.21019378, -0.33248731, -1.08304806, ...,  0.49594873,\n",
       "       -2.07788271, -0.56035432])"
      ]
     },
     "execution_count": 190,
     "metadata": {},
     "output_type": "execute_result"
    }
   ],
   "source": [
    "s = np.random.standard_normal(8000) # is a simplified version of normal and just takes one arguement of size producing similar results\n",
    "s"
   ]
  },
  {
   "cell_type": "code",
   "execution_count": 192,
   "metadata": {},
   "outputs": [
    {
     "data": {
      "image/png": "[encoded data removed]",
      "text/plain": [
       "<Figure size 432x288 with 1 Axes>"
      ]
     },
     "metadata": {},
     "output_type": "display_data"
    }
   ],
   "source": [
    "import matplotlib.pyplot as plt\n",
    "\n",
    "plt.hist(x) #plot the 8000 values on a simple histogram shows the similar outcome when using this function.\n",
    "plt.show()"
   ]
  },
  {
   "cell_type": "markdown",
   "metadata": {},
   "source": [
    "### random.standard_t (t-test)"
   ]
  },
  {
   "cell_type": "markdown",
   "metadata": {},
   "source": [
    "Scipy.org describes the t-test well as \"a significance test for the mean value of a normal distribution\" <sup>4</sup>. It is a complex but very useful test to compare the mean of populations that meet certain requirements and assumptions<sup>6</sup>. It has a hyperbolic distribution. It requires *degrees of freedom* as an input, and size is optional. An example<sup>4</sup> of the implementation of this test is below:   "
   ]
  },
  {
   "cell_type": "code",
   "execution_count": 44,
   "metadata": {},
   "outputs": [
    {
     "data": {
      "text/plain": [
       "array([5260, 5470, 5640, 6180, 6390, 6515, 6805, 7515, 7515, 8230, 8770])"
      ]
     },
     "execution_count": 44,
     "metadata": {},
     "output_type": "execute_result"
    }
   ],
   "source": [
    "import numpy as np\n",
    "\n",
    "intake = np.array([5260, 5470, 5640, 6180, 6390, 6515, 6805, 7515, 7515, 8230, 8770]) #example of women's intake of calories per day in Kj\n",
    "intake\n",
    "\n",
    "#NOTE: recommended value is 7725Kj and there is 10 degrees of freedom"
   ]
  },
  {
   "cell_type": "code",
   "execution_count": 45,
   "metadata": {},
   "outputs": [
    {
     "data": {
      "text/plain": [
       "6753.636363636364"
      ]
     },
     "execution_count": 45,
     "metadata": {},
     "output_type": "execute_result"
    }
   ],
   "source": [
    "np.mean(intake) #establish the mean of the intake array which will remain fixed "
   ]
  },
  {
   "cell_type": "code",
   "execution_count": 46,
   "metadata": {},
   "outputs": [
    {
     "data": {
      "text/plain": [
       "1142.1232221373727"
      ]
     },
     "execution_count": 46,
     "metadata": {},
     "output_type": "execute_result"
    }
   ],
   "source": [
    "intake.std(ddof=1) \n",
    "\n",
    "#where “Delta Degrees of Freedom” is the divisor used in the calculation is N - ddof, \n",
    "#where N represents the number of elements. By default ddof is zero."
   ]
  },
  {
   "cell_type": "code",
   "execution_count": 47,
   "metadata": {},
   "outputs": [
    {
     "data": {
      "text/plain": [
       "array([ 0.22911751, -0.97951323,  1.24784841, ...,  0.21234902,\n",
       "        0.23395345, -1.20436807])"
      ]
     },
     "execution_count": 47,
     "metadata": {},
     "output_type": "execute_result"
    }
   ],
   "source": [
    "s = np.random.standard_t(10, size=100000) \n",
    "s\n",
    "#the function is used to create a second array of random numbers to compare to the \"intake\" array. \n",
    "#the function tests if the sample mean is within 95% of the recommended value."
   ]
  },
  {
   "cell_type": "code",
   "execution_count": 48,
   "metadata": {},
   "outputs": [
    {
     "data": {
      "text/plain": [
       "0.00908"
      ]
     },
     "execution_count": 48,
     "metadata": {},
     "output_type": "execute_result"
    }
   ],
   "source": [
    "t = (np.mean(intake)-7725)/(intake.std(ddof=1)/np.sqrt(len(intake)))\n",
    "\n",
    "np.sum(s<t) / float(len(s)) \n",
    "\n",
    "#the two set of data are then compared using the one-sided t-test, to answer how far out in the distribution does the t statistic appear?"
   ]
  },
  {
   "cell_type": "markdown",
   "metadata": {},
   "source": [
    "The final figure is the p-value and in this case is approx. 0.009, which tells us that the null hypothesis has a probability of about 99% of being true."
   ]
  },
  {
   "cell_type": "markdown",
   "metadata": {},
   "source": [
    "### random.binomial"
   ]
  },
  {
   "cell_type": "markdown",
   "metadata": {},
   "source": [
    "Binomial distribution follows the following rules<sup>7</sup>: \n",
    "\n",
    "- the experiment consists of *n* repeated trials\n",
    "- each trial can result in just two possible outcomes i.e. success or failure\n",
    "- the probability of success (*P*) is the same on every trial\n",
    "- the trials are independent i.e. the outcome of one trial does not affect the outcome of other trials\n",
    "\n",
    "The parameters for the numpy function are therefore *n*, *P*, and the size of the sample nd it returns a binomial distributed array.\n",
    "\n",
    "An example is outlined below: "
   ]
  },
  {
   "cell_type": "code",
   "execution_count": 95,
   "metadata": {},
   "outputs": [
    {
     "data": {
      "text/plain": [
       "12.6"
      ]
     },
     "execution_count": 95,
     "metadata": {},
     "output_type": "execute_result"
    }
   ],
   "source": [
    "# 10,000 trials of equal probability of getting an even number on 3 dice throws.  \n",
    "p = sum(np.random.binomial(3, 0.5, 10000) == 0)/10000  \n",
    "\n",
    "p * 100"
   ]
  },
  {
   "cell_type": "markdown",
   "metadata": {},
   "source": [
    "The output is the % probability of a True outcome"
   ]
  },
  {
   "cell_type": "markdown",
   "metadata": {},
   "source": [
    "### random.power"
   ]
  },
  {
   "cell_type": "markdown",
   "metadata": {},
   "source": [
    "This function creates random values between 0 to 1 with a power distribution with positive exponent (a - 1). This function is also known as the power function distribution. It requires a float greater than 0 or array and can also accept a shape which defaults to null with a single number returned if no shape is specified."
   ]
  },
  {
   "cell_type": "code",
   "execution_count": 99,
   "metadata": {},
   "outputs": [],
   "source": [
    "a = 5. # where a is the size/shape fo the data\n",
    "samples = 1000 # the number of values to sample\n",
    "s = np.random.power(a, samples) "
   ]
  },
  {
   "cell_type": "code",
   "execution_count": 102,
   "metadata": {},
   "outputs": [
    {
     "data": {
      "image/png": "[encoded data removed]",
      "text/plain": [
       "<Figure size 432x288 with 1 Axes>"
      ]
     },
     "metadata": {},
     "output_type": "display_data"
    }
   ],
   "source": [
    "import matplotlib.pyplot as plt\n",
    "\n",
    "plt.hist(s, bins=30)\n",
    "\n",
    "plt.show()"
   ]
  },
  {
   "cell_type": "markdown",
   "metadata": {},
   "source": [
    "### random.laplace"
   ]
  },
  {
   "cell_type": "markdown",
   "metadata": {},
   "source": [
    "The Laplace A.K.A. double exponential distribution works with the (optional) parameters:\n",
    "- float in this case is the mean of the distribution peak\n",
    "- the exponential decay\n",
    "- a shape which defaults to null with a single number returned if no shape is specified. with specified location (or mean) and scale (decay).\n",
    "\n",
    "Overall it is similar to the Gaussian/normal distribution, but is sharper at the peak and has fatter tails. It examines the difference between two independent, identically distributed exponential random variables<sup>4</sup>."
   ]
  },
  {
   "cell_type": "code",
   "execution_count": 110,
   "metadata": {},
   "outputs": [],
   "source": [
    "loc, scale = 0., 1.\n",
    "s = np.random.laplace(loc, scale, 1000)"
   ]
  },
  {
   "cell_type": "code",
   "execution_count": 109,
   "metadata": {},
   "outputs": [
    {
     "data": {
      "text/plain": [
       "[<matplotlib.lines.Line2D at 0x7e60860>]"
      ]
     },
     "execution_count": 109,
     "metadata": {},
     "output_type": "execute_result"
    },
    {
     "data": {
      "image/png": "[encoded data removed]",
      "text/plain": [
       "<Figure size 432x288 with 1 Axes>"
      ]
     },
     "metadata": {},
     "output_type": "display_data"
    }
   ],
   "source": [
    "import matplotlib.pyplot as plt\n",
    "count, bins, ignored = plt.hist(s, 30, density=True)\n",
    "x = np.arange(-8., 8., .01)\n",
    "pdf = np.exp(-abs(x-loc)/scale)/(2.*scale)\n",
    "plt.plot(x, pdf)"
   ]
  },
  {
   "cell_type": "markdown",
   "metadata": {},
   "source": [
    "## PART 4: Use of Seeds in Generating Pseudorandom Numbers"
   ]
  },
  {
   "cell_type": "markdown",
   "metadata": {},
   "source": [
    "Reference 3. Chapter 4.6 Pseudorandom Number Generation (page 118/119)\n",
    "\n",
    "\"We say that these are pseudorandom numbers because they are generated by an algorithm with deterministic behavior based on the seed of the random number generator. You can change NumPy’s random number generation seed using np.random.seed:\""
   ]
  },
  {
   "cell_type": "code",
   "execution_count": 7,
   "metadata": {},
   "outputs": [],
   "source": [
    "np. random. seed(1234)"
   ]
  },
  {
   "cell_type": "markdown",
   "metadata": {},
   "source": [
    "\"The data generation functions in numpy.random use a global random seed. To avoid global state, you can use numpy.random.RandomState to create a random number generator isolated from others\""
   ]
  },
  {
   "cell_type": "code",
   "execution_count": 8,
   "metadata": {},
   "outputs": [
    {
     "data": {
      "text/plain": [
       "array([ 0.47143516, -1.19097569,  1.43270697, -0.3126519 , -0.72058873,\n",
       "        0.88716294,  0.85958841, -0.6365235 ,  0.01569637, -2.24268495])"
      ]
     },
     "execution_count": 8,
     "metadata": {},
     "output_type": "execute_result"
    }
   ],
   "source": [
    "rng = np. random. RandomState(1234)\n",
    "rng. randn(10)"
   ]
  },
  {
   "cell_type": "markdown",
   "metadata": {},
   "source": [
    "## References"
   ]
  },
  {
   "cell_type": "markdown",
   "metadata": {},
   "source": [
    "1. https://docs.scipy.org/doc/numpy/reference/routines.random.html\n",
    "2. Ian McLoughlan Programming for Data Analysis, GMIT Lectures Week 2 \"PyPlot_Examples_Master\" \n",
    "3. Python for Data Analysis, William McKinney\n",
    "    2.6 Pseudorandom Number Generation \n",
    "4. https://docs.scipy.org/doc/numpy/reference/routines.random.html \n",
    "5. https://stackoverflow.com/questions/18829185/difference-between-various-numpy-random-functions\n",
    "6. https://www.encyclopediaofmath.org/index.php/Student_test\n",
    "7. https://stattrek.com/probability-distributions/binomial.aspx"
   ]
  },
  {
   "cell_type": "markdown",
   "metadata": {},
   "source": [
    "## Back Up"
   ]
  },
  {
   "cell_type": "code",
   "execution_count": 1,
   "metadata": {},
   "outputs": [
    {
     "data": {
      "text/plain": [
       "10737573"
      ]
     },
     "execution_count": 1,
     "metadata": {},
     "output_type": "execute_result"
    }
   ],
   "source": [
    "import numpy as np\n",
    "import random\n",
    "import seaborn as sns\n",
    "import itertools\n",
    "%matplotlib inline\n",
    "\n",
    "lotto_numbers = list(range(47))\n",
    "winning_numbers = list(np.random.permutation(48))\n",
    "y = winning_numbers[0:6]\n",
    "y\n",
    "\n",
    "poss = list(itertools.combinations(lotto_numbers, 6))\n",
    "x = len(poss)\n",
    "x\n"
   ]
  },
  {
   "cell_type": "code",
   "execution_count": null,
   "metadata": {},
   "outputs": [],
   "source": [
    "poss = list(itertools.combinations(lotto_numbers, 6))\n",
    "x = len(poss)\n",
    "x"
   ]
  },
  {
   "cell_type": "code",
   "execution_count": 108,
   "metadata": {},
   "outputs": [
    {
     "ename": "ValueError",
     "evalue": "The truth value of an array with more than one element is ambiguous. Use a.any() or a.all()",
     "output_type": "error",
     "traceback": [
      "\u001b[1;31m---------------------------------------------------------------------------\u001b[0m",
      "\u001b[1;31mValueError\u001b[0m                                Traceback (most recent call last)",
      "\u001b[1;32m<ipython-input-108-014fa20e0c06>\u001b[0m in \u001b[0;36m<module>\u001b[1;34m()\u001b[0m\n\u001b[0;32m      9\u001b[0m \u001b[1;33m\u001b[0m\u001b[0m\n\u001b[0;32m     10\u001b[0m \u001b[1;31m#needs work\u001b[0m\u001b[1;33m\u001b[0m\u001b[1;33m\u001b[0m\u001b[0m\n\u001b[1;32m---> 11\u001b[1;33m \u001b[1;32mif\u001b[0m \u001b[0mz\u001b[0m\u001b[1;33m.\u001b[0m\u001b[0mcount\u001b[0m\u001b[1;33m(\u001b[0m\u001b[0mfavourite_numbers\u001b[0m\u001b[1;33m)\u001b[0m \u001b[1;33m==\u001b[0m \u001b[1;36m1\u001b[0m\u001b[1;33m:\u001b[0m\u001b[1;33m\u001b[0m\u001b[0m\n\u001b[0m\u001b[0;32m     12\u001b[0m     \u001b[0mprint\u001b[0m\u001b[1;33m(\u001b[0m\u001b[0mYes\u001b[0m\u001b[1;33m)\u001b[0m\u001b[1;33m\u001b[0m\u001b[0m\n\u001b[0;32m     13\u001b[0m \u001b[1;33m\u001b[0m\u001b[0m\n",
      "\u001b[1;31mValueError\u001b[0m: The truth value of an array with more than one element is ambiguous. Use a.any() or a.all()"
     ]
    }
   ],
   "source": [
    "\n",
    "#1 in 10,737,573 chances of getting 6 numbers from a 47 ball draw.\n",
    "\n",
    "#So if I play the same numbers every Saturday for a year (52 weeks) \n",
    "favourite_numbers = [1, 3, 11, 16, 29, 37]\n",
    "z1 = list(np.random.permutation(poss))\n",
    "z = z1[0:52]\n",
    "z\n",
    "\n",
    "#needs work\n",
    "if z.count(favourite_numbers) == 1:\n",
    "    print(Yes)a\n",
    "    \n",
    "# Count the overlap between the correct answer, and each of the 70 possiblities.\n",
    "counts = [len(favourite_numbers & set(z)) for i in poss]\n",
    "counts\n",
    "# Creat the plot.\n",
    "sns.countplot(counts)"
   ]
  },
  {
   "cell_type": "markdown",
   "metadata": {},
   "source": [
    "\n"
   ]
  }
 ],
 "metadata": {
  "kernelspec": {
   "display_name": "Python 3",
   "language": "python",
   "name": "python3"
  },
  "language_info": {
   "codemirror_mode": {
    "name": "ipython",
    "version": 3
   },
   "file_extension": ".py",
   "mimetype": "text/x-python",
   "name": "python",
   "nbconvert_exporter": "python",
   "pygments_lexer": "ipython3",
   "version": "3.6.5"
  }
 },
 "nbformat": 4,
 "nbformat_minor": 2
}
